{
 "cells": [
  {
   "cell_type": "markdown",
   "id": "bac6a0c6",
   "metadata": {},
   "source": [
    "# <i>(The Spark Foundation - Data Science and Business Analytics) </i>\n",
    "\n",
    "\n",
    "## TASK-2: Prediction using Unsupervised Learning\n",
    "<br>\n",
    "<b> From the Given Iris Data Set predict optimum number of clusters and represent it visually <b/>\n",
    "<br>\n",
    "<hr><i>Steps for Solving the problem are as follow: </i>\n",
    "<ul>\n",
    "<li>Importing the Data Set</li>\n",
    "<li>Visualizing the Data Set</li>\n",
    "<li>Finding Optimal cluster for k-means classification</li>\n",
    "<li>Visualising the Cluster</li>\n",
    "</ul>\n",
    "\n",
    "## Author: NILAY RAJESH GUHE\n"
   ]
  },
  {
   "cell_type": "markdown",
   "id": "7b177c67",
   "metadata": {},
   "source": [
    "# <li>-->Classification of Iris Species using Unsupervised learning </li>\n",
    "### <i> <li> The following are the Species of Iris plant namely Iris Versicolor, Iris Setosa and Iris Virginica.</li> </i>"
   ]
  },
  {
   "attachments": {
    "iris_image.jpg": {
     "image/jpeg": "[encoded data removed]"
    }
   },
   "cell_type": "markdown",
   "id": "b4df66d9",
   "metadata": {},
   "source": [
    "![iris_image.jpg](attachment:iris_image.jpg)"
   ]
  },
  {
   "cell_type": "markdown",
   "id": "822a05ff",
   "metadata": {},
   "source": [
    "### <i> Step-1: Importing the Data Set </i>\n",
    "<i> In this step, we are going to import the data set through the link with the help of Pandas Library and then we will observe the data. </i>"
   ]
  },
  {
   "cell_type": "code",
   "execution_count": 33,
   "id": "1a983141",
   "metadata": {},
   "outputs": [],
   "source": [
    " #Importing all the required Libraries.\n",
    "import pandas as pd\n",
    "import numpy as np\n",
    "import matplotlib.pyplot as plt\n",
    "from sklearn import datasets \n",
    "from sklearn.cluster import KMeans\n",
    "import warnings as wg\n",
    "wg.filterwarnings(\"ignore\")\n",
    "\n"
   ]
  },
  {
   "cell_type": "markdown",
   "id": "12f62a36",
   "metadata": {},
   "source": [
    "#### Load the Iris data set"
   ]
  },
  {
   "cell_type": "code",
   "execution_count": 26,
   "id": "fadc01c9",
   "metadata": {},
   "outputs": [],
   "source": [
    "#Reading data from remote link.\n",
    "iris_ds = pd.read_excel(\"Iris1.xlsx\")"
   ]
  },
  {
   "cell_type": "markdown",
   "id": "d4283a7a",
   "metadata": {},
   "source": [
    "### <i> Step-2: Visualizing the Data Set </i>"
   ]
  },
  {
   "cell_type": "code",
   "execution_count": 27,
   "id": "3a5d1d00",
   "metadata": {},
   "outputs": [
    {
     "data": {
      "text/html": [
       "<div>\n",
       "<style scoped>\n",
       "    .dataframe tbody tr th:only-of-type {\n",
       "        vertical-align: middle;\n",
       "    }\n",
       "\n",
       "    .dataframe tbody tr th {\n",
       "        vertical-align: top;\n",
       "    }\n",
       "\n",
       "    .dataframe thead th {\n",
       "        text-align: right;\n",
       "    }\n",
       "</style>\n",
       "<table border=\"1\" class=\"dataframe\">\n",
       "  <thead>\n",
       "    <tr style=\"text-align: right;\">\n",
       "      <th></th>\n",
       "      <th>Id</th>\n",
       "      <th>SepalLengthCm</th>\n",
       "      <th>SepalWidthCm</th>\n",
       "      <th>PetalLengthCm</th>\n",
       "      <th>PetalWidthCm</th>\n",
       "      <th>Species</th>\n",
       "    </tr>\n",
       "  </thead>\n",
       "  <tbody>\n",
       "    <tr>\n",
       "      <th>0</th>\n",
       "      <td>1</td>\n",
       "      <td>5.1</td>\n",
       "      <td>3.5</td>\n",
       "      <td>1.4</td>\n",
       "      <td>0.2</td>\n",
       "      <td>Iris-setosa</td>\n",
       "    </tr>\n",
       "    <tr>\n",
       "      <th>1</th>\n",
       "      <td>2</td>\n",
       "      <td>4.9</td>\n",
       "      <td>3.0</td>\n",
       "      <td>1.4</td>\n",
       "      <td>0.2</td>\n",
       "      <td>Iris-setosa</td>\n",
       "    </tr>\n",
       "    <tr>\n",
       "      <th>2</th>\n",
       "      <td>3</td>\n",
       "      <td>4.7</td>\n",
       "      <td>3.2</td>\n",
       "      <td>1.3</td>\n",
       "      <td>0.2</td>\n",
       "      <td>Iris-setosa</td>\n",
       "    </tr>\n",
       "    <tr>\n",
       "      <th>3</th>\n",
       "      <td>4</td>\n",
       "      <td>4.6</td>\n",
       "      <td>3.1</td>\n",
       "      <td>1.5</td>\n",
       "      <td>0.2</td>\n",
       "      <td>Iris-setosa</td>\n",
       "    </tr>\n",
       "    <tr>\n",
       "      <th>4</th>\n",
       "      <td>5</td>\n",
       "      <td>5.0</td>\n",
       "      <td>3.6</td>\n",
       "      <td>1.4</td>\n",
       "      <td>0.2</td>\n",
       "      <td>Iris-setosa</td>\n",
       "    </tr>\n",
       "  </tbody>\n",
       "</table>\n",
       "</div>"
      ],
      "text/plain": [
       "   Id  SepalLengthCm  SepalWidthCm  PetalLengthCm  PetalWidthCm      Species\n",
       "0   1            5.1           3.5            1.4           0.2  Iris-setosa\n",
       "1   2            4.9           3.0            1.4           0.2  Iris-setosa\n",
       "2   3            4.7           3.2            1.3           0.2  Iris-setosa\n",
       "3   4            4.6           3.1            1.5           0.2  Iris-setosa\n",
       "4   5            5.0           3.6            1.4           0.2  Iris-setosa"
      ]
     },
     "execution_count": 27,
     "metadata": {},
     "output_type": "execute_result"
    }
   ],
   "source": [
    "iris_ds.head()"
   ]
  },
  {
   "cell_type": "code",
   "execution_count": 28,
   "id": "4663529d",
   "metadata": {
    "scrolled": true
   },
   "outputs": [
    {
     "data": {
      "text/html": [
       "<div>\n",
       "<style scoped>\n",
       "    .dataframe tbody tr th:only-of-type {\n",
       "        vertical-align: middle;\n",
       "    }\n",
       "\n",
       "    .dataframe tbody tr th {\n",
       "        vertical-align: top;\n",
       "    }\n",
       "\n",
       "    .dataframe thead th {\n",
       "        text-align: right;\n",
       "    }\n",
       "</style>\n",
       "<table border=\"1\" class=\"dataframe\">\n",
       "  <thead>\n",
       "    <tr style=\"text-align: right;\">\n",
       "      <th></th>\n",
       "      <th>Id</th>\n",
       "      <th>SepalLengthCm</th>\n",
       "      <th>SepalWidthCm</th>\n",
       "      <th>PetalLengthCm</th>\n",
       "      <th>PetalWidthCm</th>\n",
       "    </tr>\n",
       "  </thead>\n",
       "  <tbody>\n",
       "    <tr>\n",
       "      <th>count</th>\n",
       "      <td>150.000000</td>\n",
       "      <td>150.000000</td>\n",
       "      <td>150.000000</td>\n",
       "      <td>150.000000</td>\n",
       "      <td>150.000000</td>\n",
       "    </tr>\n",
       "    <tr>\n",
       "      <th>mean</th>\n",
       "      <td>75.500000</td>\n",
       "      <td>5.843333</td>\n",
       "      <td>3.054000</td>\n",
       "      <td>3.758667</td>\n",
       "      <td>1.198667</td>\n",
       "    </tr>\n",
       "    <tr>\n",
       "      <th>std</th>\n",
       "      <td>43.445368</td>\n",
       "      <td>0.828066</td>\n",
       "      <td>0.433594</td>\n",
       "      <td>1.764420</td>\n",
       "      <td>0.763161</td>\n",
       "    </tr>\n",
       "    <tr>\n",
       "      <th>min</th>\n",
       "      <td>1.000000</td>\n",
       "      <td>4.300000</td>\n",
       "      <td>2.000000</td>\n",
       "      <td>1.000000</td>\n",
       "      <td>0.100000</td>\n",
       "    </tr>\n",
       "    <tr>\n",
       "      <th>25%</th>\n",
       "      <td>38.250000</td>\n",
       "      <td>5.100000</td>\n",
       "      <td>2.800000</td>\n",
       "      <td>1.600000</td>\n",
       "      <td>0.300000</td>\n",
       "    </tr>\n",
       "    <tr>\n",
       "      <th>50%</th>\n",
       "      <td>75.500000</td>\n",
       "      <td>5.800000</td>\n",
       "      <td>3.000000</td>\n",
       "      <td>4.350000</td>\n",
       "      <td>1.300000</td>\n",
       "    </tr>\n",
       "    <tr>\n",
       "      <th>75%</th>\n",
       "      <td>112.750000</td>\n",
       "      <td>6.400000</td>\n",
       "      <td>3.300000</td>\n",
       "      <td>5.100000</td>\n",
       "      <td>1.800000</td>\n",
       "    </tr>\n",
       "    <tr>\n",
       "      <th>max</th>\n",
       "      <td>150.000000</td>\n",
       "      <td>7.900000</td>\n",
       "      <td>4.400000</td>\n",
       "      <td>6.900000</td>\n",
       "      <td>2.500000</td>\n",
       "    </tr>\n",
       "  </tbody>\n",
       "</table>\n",
       "</div>"
      ],
      "text/plain": [
       "               Id  SepalLengthCm  SepalWidthCm  PetalLengthCm  PetalWidthCm\n",
       "count  150.000000     150.000000    150.000000     150.000000    150.000000\n",
       "mean    75.500000       5.843333      3.054000       3.758667      1.198667\n",
       "std     43.445368       0.828066      0.433594       1.764420      0.763161\n",
       "min      1.000000       4.300000      2.000000       1.000000      0.100000\n",
       "25%     38.250000       5.100000      2.800000       1.600000      0.300000\n",
       "50%     75.500000       5.800000      3.000000       4.350000      1.300000\n",
       "75%    112.750000       6.400000      3.300000       5.100000      1.800000\n",
       "max    150.000000       7.900000      4.400000       6.900000      2.500000"
      ]
     },
     "execution_count": 28,
     "metadata": {},
     "output_type": "execute_result"
    }
   ],
   "source": [
    "#To display stats about the data set\n",
    "iris_ds.describe() "
   ]
  },
  {
   "cell_type": "code",
   "execution_count": 29,
   "id": "1e9ecc9e",
   "metadata": {},
   "outputs": [
    {
     "data": {
      "text/plain": [
       "(150, 6)"
      ]
     },
     "execution_count": 29,
     "metadata": {},
     "output_type": "execute_result"
    }
   ],
   "source": [
    "#Shape of data set\n",
    "iris_ds.shape"
   ]
  },
  {
   "cell_type": "code",
   "execution_count": 30,
   "id": "605f0bd7",
   "metadata": {},
   "outputs": [
    {
     "data": {
      "text/plain": [
       "Index(['Id', 'SepalLengthCm', 'SepalWidthCm', 'PetalLengthCm', 'PetalWidthCm',\n",
       "       'Species'],\n",
       "      dtype='object')"
      ]
     },
     "execution_count": 30,
     "metadata": {},
     "output_type": "execute_result"
    }
   ],
   "source": [
    "iris_ds.columns"
   ]
  },
  {
   "cell_type": "code",
   "execution_count": 20,
   "id": "1641d7cb",
   "metadata": {},
   "outputs": [
    {
     "name": "stdout",
     "output_type": "stream",
     "text": [
      "<class 'pandas.core.frame.DataFrame'>\n",
      "RangeIndex: 150 entries, 0 to 149\n",
      "Data columns (total 6 columns):\n",
      " #   Column         Non-Null Count  Dtype  \n",
      "---  ------         --------------  -----  \n",
      " 0   Id             150 non-null    int64  \n",
      " 1   SepalLengthCm  150 non-null    float64\n",
      " 2   SepalWidthCm   150 non-null    float64\n",
      " 3   PetalLengthCm  150 non-null    float64\n",
      " 4   PetalWidthCm   150 non-null    float64\n",
      " 5   Species        150 non-null    object \n",
      "dtypes: float64(4), int64(1), object(1)\n",
      "memory usage: 7.2+ KB\n"
     ]
    }
   ],
   "source": [
    "#Basic informatioon about data type\n",
    "iris_ds.info()"
   ]
  },
  {
   "cell_type": "markdown",
   "id": "b1b9a3bd",
   "metadata": {},
   "source": [
    "### <i> Step-3: Finding Optimal cluster for k-means classification </i>"
   ]
  },
  {
   "cell_type": "code",
   "execution_count": 31,
   "id": "c2727e84",
   "metadata": {},
   "outputs": [],
   "source": [
    "x=iris_ds.iloc[: ,[0,1,2,3]].values\n",
    "from sklearn.cluster import KMeans\n",
    "wcss=[]\n",
    "for i in range(1,11):\n",
    "    kmeans=KMeans(n_clusters=i, init='k-means++',\n",
    "                  max_iter=300,n_init=10,random_state=0)\n",
    "    kmeans.fit(x)\n",
    "    wcss.append(kmeans.inertia_)\n"
   ]
  },
  {
   "cell_type": "markdown",
   "id": "19553232",
   "metadata": {},
   "source": [
    "### Elbow Method"
   ]
  },
  {
   "cell_type": "code",
   "execution_count": 22,
   "id": "6d3366a2",
   "metadata": {},
   "outputs": [
    {
     "data": {
      "image/png": "[encoded data removed]",
      "text/plain": [
       "<Figure size 432x288 with 1 Axes>"
      ]
     },
     "metadata": {
      "needs_background": "light"
     },
     "output_type": "display_data"
    }
   ],
   "source": [
    "plt.plot(range(1,11), wcss,color='red')\n",
    "plt.title('The Elbow Method')\n",
    "plt.xlabel('Number of clusters')\n",
    "plt.ylabel('WCSS')\n",
    "plt.show()"
   ]
  },
  {
   "cell_type": "markdown",
   "id": "24560893",
   "metadata": {},
   "source": [
    "### <i> Step-4: Visualize the Cluster </i>"
   ]
  },
  {
   "cell_type": "markdown",
   "id": "04341a14",
   "metadata": {},
   "source": [
    "<i> Applying kmeans to the datatset / Creating the kmeans classifier </i>"
   ]
  },
  {
   "cell_type": "code",
   "execution_count": 32,
   "id": "94ca9841",
   "metadata": {},
   "outputs": [],
   "source": [
    "#Applying kmeans to the datatset / Creating the kmeans classifier\n",
    "kmeans= KMeans(n_clusters = 3,init='k-means++',\n",
    "                  max_iter=300,n_init=10,random_state=0)\n",
    "y_kmeans= kmeans.fit_predict(x)"
   ]
  },
  {
   "cell_type": "markdown",
   "id": "e095f5ca",
   "metadata": {},
   "source": [
    "<i> Visualizing the cluster - On the First two columns </i>"
   ]
  },
  {
   "cell_type": "code",
   "execution_count": 24,
   "id": "4db1e39f",
   "metadata": {
    "scrolled": true
   },
   "outputs": [
    {
     "data": {
      "text/plain": [
       "<matplotlib.legend.Legend at 0x185b3f83700>"
      ]
     },
     "execution_count": 24,
     "metadata": {},
     "output_type": "execute_result"
    },
    {
     "data": {
      "image/png": "[encoded data removed]",
      "text/plain": [
       "<Figure size 432x288 with 1 Axes>"
      ]
     },
     "metadata": {
      "needs_background": "light"
     },
     "output_type": "display_data"
    }
   ],
   "source": [
    "#Visualizing the cluster - On the First two columns\n",
    "plt.scatter(x[y_kmeans == 0 , 0],x[y_kmeans == 0 , 1],\n",
    "             s = 100,c = 'red', label = ' Iris-setosa')\n",
    "plt.scatter(x[y_kmeans==1,0],x[y_kmeans==1,1],\n",
    "             s=100,c='orange', label=' Iris-versicolour')\n",
    "plt.scatter(x[y_kmeans==2,0],x[y_kmeans==2,1],\n",
    "            s=100,c='green', label=' Iris-virginica')\n",
    "\n",
    "#Plotting the centroids of clusters\n",
    "plt.scatter(kmeans.cluster_centers_[:,0],kmeans.cluster_centers_[:,1],\n",
    "             s=100,c='blue', label='Centroids')\n",
    "plt.legend()"
   ]
  },
  {
   "cell_type": "markdown",
   "id": "ca1e767f",
   "metadata": {},
   "source": [
    "#### <i> From the above plot it is clear that, there are 3 clusters and each cluster is having a centroid which is represented by blue colour. </i>"
   ]
  },
  {
   "cell_type": "markdown",
   "id": "d65ce575",
   "metadata": {},
   "source": [
    "<br>\n",
    "<b> <hr>\n"
   ]
  },
  {
   "cell_type": "markdown",
   "id": "9e7cac8d",
   "metadata": {},
   "source": [
    "# <i> Thank You ! </i> "
   ]
  }
 ],
 "metadata": {
  "kernelspec": {
   "display_name": "Python 3",
   "language": "python",
   "name": "python3"
  },
  "language_info": {
   "codemirror_mode": {
    "name": "ipython",
    "version": 3
   },
   "file_extension": ".py",
   "mimetype": "text/x-python",
   "name": "python",
   "nbconvert_exporter": "python",
   "pygments_lexer": "ipython3",
   "version": "3.8.8"
  }
 },
 "nbformat": 4,
 "nbformat_minor": 5
}
